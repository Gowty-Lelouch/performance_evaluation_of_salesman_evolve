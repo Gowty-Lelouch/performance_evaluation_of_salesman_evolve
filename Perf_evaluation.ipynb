{
 "cells": [
  {
   "cell_type": "code",
   "execution_count": 1,
   "metadata": {},
   "outputs": [],
   "source": [
    "import pandas as pd\n",
    "import matplotlib.pyplot as plt\n",
    "import seaborn as sns\n",
    "\n",
    "%matplotlib inline"
   ]
  },
  {
   "cell_type": "code",
   "execution_count": 2,
   "metadata": {
    "scrolled": false
   },
   "outputs": [
    {
     "data": {
      "text/html": [
       "<div>\n",
       "<style scoped>\n",
       "    .dataframe tbody tr th:only-of-type {\n",
       "        vertical-align: middle;\n",
       "    }\n",
       "\n",
       "    .dataframe tbody tr th {\n",
       "        vertical-align: top;\n",
       "    }\n",
       "\n",
       "    .dataframe thead th {\n",
       "        text-align: right;\n",
       "    }\n",
       "</style>\n",
       "<table border=\"1\" class=\"dataframe\">\n",
       "  <thead>\n",
       "    <tr style=\"text-align: right;\">\n",
       "      <th></th>\n",
       "      <th>Salesman_ID</th>\n",
       "      <th>Year</th>\n",
       "      <th>Units_Sold</th>\n",
       "      <th>Unit_Price</th>\n",
       "      <th>Customer_connects_count</th>\n",
       "      <th>New_customer_count</th>\n",
       "      <th>Pipeline Revenue</th>\n",
       "      <th>New_customer_acquisition_target</th>\n",
       "      <th>target_ratio</th>\n",
       "      <th>revenue_actual</th>\n",
       "    </tr>\n",
       "  </thead>\n",
       "  <tbody>\n",
       "    <tr>\n",
       "      <th>0</th>\n",
       "      <td>CA-3697</td>\n",
       "      <td>2012</td>\n",
       "      <td>897</td>\n",
       "      <td>140.2</td>\n",
       "      <td>935</td>\n",
       "      <td>488</td>\n",
       "      <td>125759</td>\n",
       "      <td>976</td>\n",
       "      <td>0.5</td>\n",
       "      <td>125759.4</td>\n",
       "    </tr>\n",
       "    <tr>\n",
       "      <th>1</th>\n",
       "      <td>AL-9060</td>\n",
       "      <td>2012</td>\n",
       "      <td>759</td>\n",
       "      <td>121.0</td>\n",
       "      <td>869</td>\n",
       "      <td>349</td>\n",
       "      <td>183678</td>\n",
       "      <td>698</td>\n",
       "      <td>0.5</td>\n",
       "      <td>91839.0</td>\n",
       "    </tr>\n",
       "  </tbody>\n",
       "</table>\n",
       "</div>"
      ],
      "text/plain": [
       "  Salesman_ID  Year  Units_Sold  Unit_Price  Customer_connects_count  \\\n",
       "0     CA-3697  2012         897       140.2                      935   \n",
       "1     AL-9060  2012         759       121.0                      869   \n",
       "\n",
       "   New_customer_count  Pipeline Revenue  New_customer_acquisition_target  \\\n",
       "0                 488            125759                              976   \n",
       "1                 349            183678                              698   \n",
       "\n",
       "   target_ratio  revenue_actual  \n",
       "0           0.5        125759.4  \n",
       "1           0.5         91839.0  "
      ]
     },
     "execution_count": 2,
     "metadata": {},
     "output_type": "execute_result"
    }
   ],
   "source": [
    "# Loading data\n",
    "\n",
    "df = pd.read_csv('data_mod.csv')\n",
    "df.head(2)"
   ]
  },
  {
   "cell_type": "markdown",
   "metadata": {},
   "source": [
    "Since the variables 'revenue_actual' and 'Pipeline Revenue' are linearly correlated, 'revenue_actual' is considered for further analysis. Also, as 'revenue_actual' is a combination 'Units Sold * Unit Price', those two can also be neglected for further analysis.\n",
    "\n",
    "Also, the variables New_customer_count and New_customer_acquisition_target are linearly related. And hence, only New_cusomter_count is considered for analysis.\n",
    "\n",
    "**P.S : The creation of additional variables, and correlation plots are in the notebook 'overall.ipynb'**"
   ]
  },
  {
   "cell_type": "code",
   "execution_count": 13,
   "metadata": {},
   "outputs": [],
   "source": [
    "# Taking only the details for year 2016 and previous year\n",
    "\n",
    "df2 = df.query('Year == 2016').append(df.query('Year == 2015'))"
   ]
  },
  {
   "cell_type": "code",
   "execution_count": 71,
   "metadata": {},
   "outputs": [
    {
     "data": {
      "text/html": [
       "<div>\n",
       "<style scoped>\n",
       "    .dataframe tbody tr th:only-of-type {\n",
       "        vertical-align: middle;\n",
       "    }\n",
       "\n",
       "    .dataframe tbody tr th {\n",
       "        vertical-align: top;\n",
       "    }\n",
       "\n",
       "    .dataframe thead th {\n",
       "        text-align: right;\n",
       "    }\n",
       "</style>\n",
       "<table border=\"1\" class=\"dataframe\">\n",
       "  <thead>\n",
       "    <tr style=\"text-align: right;\">\n",
       "      <th></th>\n",
       "      <th>Salesman_ID</th>\n",
       "      <th>Year</th>\n",
       "      <th>revenue_actual</th>\n",
       "      <th>Customer_connects_count</th>\n",
       "      <th>New_customer_count</th>\n",
       "      <th>target_ratio</th>\n",
       "    </tr>\n",
       "  </thead>\n",
       "  <tbody>\n",
       "    <tr>\n",
       "      <th>0</th>\n",
       "      <td>AA-5468</td>\n",
       "      <td>2015</td>\n",
       "      <td>52143.0</td>\n",
       "      <td>913</td>\n",
       "      <td>62</td>\n",
       "      <td>0.5</td>\n",
       "    </tr>\n",
       "    <tr>\n",
       "      <th>1</th>\n",
       "      <td>AA-5468</td>\n",
       "      <td>2016</td>\n",
       "      <td>22746.0</td>\n",
       "      <td>637</td>\n",
       "      <td>117</td>\n",
       "      <td>1.0</td>\n",
       "    </tr>\n",
       "    <tr>\n",
       "      <th>2</th>\n",
       "      <td>AL-3791</td>\n",
       "      <td>2015</td>\n",
       "      <td>93125.9</td>\n",
       "      <td>942</td>\n",
       "      <td>221</td>\n",
       "      <td>1.0</td>\n",
       "    </tr>\n",
       "    <tr>\n",
       "      <th>3</th>\n",
       "      <td>AL-3791</td>\n",
       "      <td>2016</td>\n",
       "      <td>33001.2</td>\n",
       "      <td>647</td>\n",
       "      <td>99</td>\n",
       "      <td>1.0</td>\n",
       "    </tr>\n",
       "    <tr>\n",
       "      <th>4</th>\n",
       "      <td>AL-6234</td>\n",
       "      <td>2015</td>\n",
       "      <td>59747.6</td>\n",
       "      <td>882</td>\n",
       "      <td>230</td>\n",
       "      <td>1.0</td>\n",
       "    </tr>\n",
       "  </tbody>\n",
       "</table>\n",
       "</div>"
      ],
      "text/plain": [
       "  Salesman_ID  Year  revenue_actual  Customer_connects_count  \\\n",
       "0     AA-5468  2015         52143.0                      913   \n",
       "1     AA-5468  2016         22746.0                      637   \n",
       "2     AL-3791  2015         93125.9                      942   \n",
       "3     AL-3791  2016         33001.2                      647   \n",
       "4     AL-6234  2015         59747.6                      882   \n",
       "\n",
       "   New_customer_count  target_ratio  \n",
       "0                  62           0.5  \n",
       "1                 117           1.0  \n",
       "2                 221           1.0  \n",
       "3                  99           1.0  \n",
       "4                 230           1.0  "
      ]
     },
     "execution_count": 71,
     "metadata": {},
     "output_type": "execute_result"
    }
   ],
   "source": [
    "gb = df2.groupby(['Salesman_ID', 'Year'], as_index=False).sum()[['Salesman_ID', 'Year','revenue_actual', 'Customer_connects_count', 'New_customer_count', 'target_ratio']]\n",
    "gb.head()"
   ]
  },
  {
   "cell_type": "code",
   "execution_count": 92,
   "metadata": {
    "scrolled": false
   },
   "outputs": [
    {
     "data": {
      "text/html": [
       "<div>\n",
       "<style scoped>\n",
       "    .dataframe tbody tr th:only-of-type {\n",
       "        vertical-align: middle;\n",
       "    }\n",
       "\n",
       "    .dataframe tbody tr th {\n",
       "        vertical-align: top;\n",
       "    }\n",
       "\n",
       "    .dataframe thead th {\n",
       "        text-align: right;\n",
       "    }\n",
       "</style>\n",
       "<table border=\"1\" class=\"dataframe\">\n",
       "  <thead>\n",
       "    <tr style=\"text-align: right;\">\n",
       "      <th></th>\n",
       "      <th>Salesman_ID</th>\n",
       "      <th>Year</th>\n",
       "      <th>revenue_actual</th>\n",
       "      <th>Customer_connects_count</th>\n",
       "      <th>New_customer_count</th>\n",
       "      <th>target_ratio</th>\n",
       "      <th>connect_inc</th>\n",
       "      <th>new_cus_inc</th>\n",
       "      <th>rev_inc</th>\n",
       "    </tr>\n",
       "  </thead>\n",
       "  <tbody>\n",
       "    <tr>\n",
       "      <th>0</th>\n",
       "      <td>AA-5468</td>\n",
       "      <td>2015</td>\n",
       "      <td>52143.0</td>\n",
       "      <td>913</td>\n",
       "      <td>62</td>\n",
       "      <td>0.5</td>\n",
       "      <td>NaN</td>\n",
       "      <td>NaN</td>\n",
       "      <td>NaN</td>\n",
       "    </tr>\n",
       "    <tr>\n",
       "      <th>1</th>\n",
       "      <td>AA-5468</td>\n",
       "      <td>2016</td>\n",
       "      <td>22746.0</td>\n",
       "      <td>637</td>\n",
       "      <td>117</td>\n",
       "      <td>1.0</td>\n",
       "      <td>-0.302300</td>\n",
       "      <td>0.887097</td>\n",
       "      <td>-0.563777</td>\n",
       "    </tr>\n",
       "    <tr>\n",
       "      <th>2</th>\n",
       "      <td>AL-3791</td>\n",
       "      <td>2015</td>\n",
       "      <td>93125.9</td>\n",
       "      <td>942</td>\n",
       "      <td>221</td>\n",
       "      <td>1.0</td>\n",
       "      <td>NaN</td>\n",
       "      <td>NaN</td>\n",
       "      <td>NaN</td>\n",
       "    </tr>\n",
       "    <tr>\n",
       "      <th>3</th>\n",
       "      <td>AL-3791</td>\n",
       "      <td>2016</td>\n",
       "      <td>33001.2</td>\n",
       "      <td>647</td>\n",
       "      <td>99</td>\n",
       "      <td>1.0</td>\n",
       "      <td>-0.313163</td>\n",
       "      <td>-0.552036</td>\n",
       "      <td>-0.645628</td>\n",
       "    </tr>\n",
       "    <tr>\n",
       "      <th>4</th>\n",
       "      <td>AL-6234</td>\n",
       "      <td>2015</td>\n",
       "      <td>59747.6</td>\n",
       "      <td>882</td>\n",
       "      <td>230</td>\n",
       "      <td>1.0</td>\n",
       "      <td>NaN</td>\n",
       "      <td>NaN</td>\n",
       "      <td>NaN</td>\n",
       "    </tr>\n",
       "  </tbody>\n",
       "</table>\n",
       "</div>"
      ],
      "text/plain": [
       "  Salesman_ID  Year  revenue_actual  Customer_connects_count  \\\n",
       "0     AA-5468  2015         52143.0                      913   \n",
       "1     AA-5468  2016         22746.0                      637   \n",
       "2     AL-3791  2015         93125.9                      942   \n",
       "3     AL-3791  2016         33001.2                      647   \n",
       "4     AL-6234  2015         59747.6                      882   \n",
       "\n",
       "   New_customer_count  target_ratio  connect_inc  new_cus_inc   rev_inc  \n",
       "0                  62           0.5          NaN          NaN       NaN  \n",
       "1                 117           1.0    -0.302300     0.887097 -0.563777  \n",
       "2                 221           1.0          NaN          NaN       NaN  \n",
       "3                  99           1.0    -0.313163    -0.552036 -0.645628  \n",
       "4                 230           1.0          NaN          NaN       NaN  "
      ]
     },
     "execution_count": 92,
     "metadata": {},
     "output_type": "execute_result"
    }
   ],
   "source": [
    "for idx in gb.index:\n",
    "    if idx % 2 != 0:\n",
    "        gb.loc[idx,'connect_inc'] = (- gb.loc[idx - 1, 'Customer_connects_count'] + gb.loc[idx, 'Customer_connects_count']) / gb.loc[idx - 1, 'Customer_connects_count']\n",
    "        gb.loc[idx,'new_cus_inc'] = (- gb.loc[idx - 1, 'New_customer_count'] + gb.loc[idx, 'New_customer_count']) / gb.loc[idx - 1, 'New_customer_count']\n",
    "        gb.loc[idx, 'rev_inc'] = (- gb.loc[idx - 1, 'revenue_actual'] + gb.loc[idx, 'revenue_actual']) / gb.loc[idx - 1, 'revenue_actual']\n",
    "gb.head()"
   ]
  },
  {
   "cell_type": "markdown",
   "metadata": {},
   "source": [
    "In the above cells, three new columns which gives us the percentage increase from 2015 to 2016 for revenue_actual, customer_connect_count, and 'New_customer_count'."
   ]
  },
  {
   "cell_type": "code",
   "execution_count": 95,
   "metadata": {},
   "outputs": [],
   "source": [
    "# Dropping 2015 cells\n",
    "gb.dropna(how='any', axis=0, inplace=True)"
   ]
  },
  {
   "cell_type": "code",
   "execution_count": 96,
   "metadata": {},
   "outputs": [
    {
     "data": {
      "text/html": [
       "<div>\n",
       "<style scoped>\n",
       "    .dataframe tbody tr th:only-of-type {\n",
       "        vertical-align: middle;\n",
       "    }\n",
       "\n",
       "    .dataframe tbody tr th {\n",
       "        vertical-align: top;\n",
       "    }\n",
       "\n",
       "    .dataframe thead th {\n",
       "        text-align: right;\n",
       "    }\n",
       "</style>\n",
       "<table border=\"1\" class=\"dataframe\">\n",
       "  <thead>\n",
       "    <tr style=\"text-align: right;\">\n",
       "      <th></th>\n",
       "      <th>Salesman_ID</th>\n",
       "      <th>Year</th>\n",
       "      <th>revenue_actual</th>\n",
       "      <th>Customer_connects_count</th>\n",
       "      <th>New_customer_count</th>\n",
       "      <th>target_ratio</th>\n",
       "      <th>connect_inc</th>\n",
       "      <th>new_cus_inc</th>\n",
       "      <th>rev_inc</th>\n",
       "    </tr>\n",
       "  </thead>\n",
       "  <tbody>\n",
       "    <tr>\n",
       "      <th>1</th>\n",
       "      <td>AA-5468</td>\n",
       "      <td>2016</td>\n",
       "      <td>22746.0</td>\n",
       "      <td>637</td>\n",
       "      <td>117</td>\n",
       "      <td>1.0</td>\n",
       "      <td>-0.302300</td>\n",
       "      <td>0.887097</td>\n",
       "      <td>-0.563777</td>\n",
       "    </tr>\n",
       "    <tr>\n",
       "      <th>3</th>\n",
       "      <td>AL-3791</td>\n",
       "      <td>2016</td>\n",
       "      <td>33001.2</td>\n",
       "      <td>647</td>\n",
       "      <td>99</td>\n",
       "      <td>1.0</td>\n",
       "      <td>-0.313163</td>\n",
       "      <td>-0.552036</td>\n",
       "      <td>-0.645628</td>\n",
       "    </tr>\n",
       "    <tr>\n",
       "      <th>5</th>\n",
       "      <td>AL-6234</td>\n",
       "      <td>2016</td>\n",
       "      <td>6220.8</td>\n",
       "      <td>244</td>\n",
       "      <td>25</td>\n",
       "      <td>0.5</td>\n",
       "      <td>-0.723356</td>\n",
       "      <td>-0.891304</td>\n",
       "      <td>-0.895882</td>\n",
       "    </tr>\n",
       "    <tr>\n",
       "      <th>7</th>\n",
       "      <td>AL-9060</td>\n",
       "      <td>2016</td>\n",
       "      <td>56217.7</td>\n",
       "      <td>820</td>\n",
       "      <td>243</td>\n",
       "      <td>0.5</td>\n",
       "      <td>-0.096916</td>\n",
       "      <td>-0.402948</td>\n",
       "      <td>-0.025977</td>\n",
       "    </tr>\n",
       "    <tr>\n",
       "      <th>9</th>\n",
       "      <td>AP-3690</td>\n",
       "      <td>2016</td>\n",
       "      <td>35190.0</td>\n",
       "      <td>872</td>\n",
       "      <td>212</td>\n",
       "      <td>1.0</td>\n",
       "      <td>-0.079197</td>\n",
       "      <td>1.000000</td>\n",
       "      <td>2.199644</td>\n",
       "    </tr>\n",
       "  </tbody>\n",
       "</table>\n",
       "</div>"
      ],
      "text/plain": [
       "  Salesman_ID  Year  revenue_actual  Customer_connects_count  \\\n",
       "1     AA-5468  2016         22746.0                      637   \n",
       "3     AL-3791  2016         33001.2                      647   \n",
       "5     AL-6234  2016          6220.8                      244   \n",
       "7     AL-9060  2016         56217.7                      820   \n",
       "9     AP-3690  2016         35190.0                      872   \n",
       "\n",
       "   New_customer_count  target_ratio  connect_inc  new_cus_inc   rev_inc  \n",
       "1                 117           1.0    -0.302300     0.887097 -0.563777  \n",
       "3                  99           1.0    -0.313163    -0.552036 -0.645628  \n",
       "5                  25           0.5    -0.723356    -0.891304 -0.895882  \n",
       "7                 243           0.5    -0.096916    -0.402948 -0.025977  \n",
       "9                 212           1.0    -0.079197     1.000000  2.199644  "
      ]
     },
     "execution_count": 96,
     "metadata": {},
     "output_type": "execute_result"
    }
   ],
   "source": [
    "gb.head()"
   ]
  },
  {
   "cell_type": "code",
   "execution_count": 97,
   "metadata": {},
   "outputs": [],
   "source": [
    "gb['normalized_rev'] = (gb.revenue_actual - gb.revenue_actual.mean())/(gb.revenue_actual.max() - gb.revenue_actual.min())"
   ]
  },
  {
   "cell_type": "code",
   "execution_count": 100,
   "metadata": {},
   "outputs": [],
   "source": [
    "# Feature scaling other three percentage change parameters using Mean normalization\n",
    "gb['normalized_connect'] = (gb.connect_inc - gb.connect_inc.mean())/(gb.connect_inc.max() - gb.connect_inc.min())\n",
    "gb['normalized_new_cus'] = (gb.new_cus_inc - gb.new_cus_inc.mean())/(gb.new_cus_inc.max() - gb.new_cus_inc.min())\n",
    "gb['normalized_rev_inc'] = (gb.rev_inc - gb.rev_inc.mean())/(gb.rev_inc.max() - gb.rev_inc.min())"
   ]
  },
  {
   "cell_type": "code",
   "execution_count": 101,
   "metadata": {
    "scrolled": true
   },
   "outputs": [
    {
     "data": {
      "text/html": [
       "<div>\n",
       "<style scoped>\n",
       "    .dataframe tbody tr th:only-of-type {\n",
       "        vertical-align: middle;\n",
       "    }\n",
       "\n",
       "    .dataframe tbody tr th {\n",
       "        vertical-align: top;\n",
       "    }\n",
       "\n",
       "    .dataframe thead th {\n",
       "        text-align: right;\n",
       "    }\n",
       "</style>\n",
       "<table border=\"1\" class=\"dataframe\">\n",
       "  <thead>\n",
       "    <tr style=\"text-align: right;\">\n",
       "      <th></th>\n",
       "      <th>Salesman_ID</th>\n",
       "      <th>Year</th>\n",
       "      <th>revenue_actual</th>\n",
       "      <th>Customer_connects_count</th>\n",
       "      <th>New_customer_count</th>\n",
       "      <th>target_ratio</th>\n",
       "      <th>connect_inc</th>\n",
       "      <th>new_cus_inc</th>\n",
       "      <th>rev_inc</th>\n",
       "      <th>normalized_rev</th>\n",
       "      <th>normalized_connect</th>\n",
       "      <th>normalized_new_cus</th>\n",
       "      <th>normalized_rev_inc</th>\n",
       "    </tr>\n",
       "  </thead>\n",
       "  <tbody>\n",
       "    <tr>\n",
       "      <th>1</th>\n",
       "      <td>AA-5468</td>\n",
       "      <td>2016</td>\n",
       "      <td>22746.0</td>\n",
       "      <td>637</td>\n",
       "      <td>117</td>\n",
       "      <td>1.0</td>\n",
       "      <td>-0.302300</td>\n",
       "      <td>0.887097</td>\n",
       "      <td>-0.563777</td>\n",
       "      <td>-0.227900</td>\n",
       "      <td>-0.108151</td>\n",
       "      <td>-0.045220</td>\n",
       "      <td>-0.120740</td>\n",
       "    </tr>\n",
       "    <tr>\n",
       "      <th>3</th>\n",
       "      <td>AL-3791</td>\n",
       "      <td>2016</td>\n",
       "      <td>33001.2</td>\n",
       "      <td>647</td>\n",
       "      <td>99</td>\n",
       "      <td>1.0</td>\n",
       "      <td>-0.313163</td>\n",
       "      <td>-0.552036</td>\n",
       "      <td>-0.645628</td>\n",
       "      <td>-0.139860</td>\n",
       "      <td>-0.111574</td>\n",
       "      <td>-0.082445</td>\n",
       "      <td>-0.129154</td>\n",
       "    </tr>\n",
       "    <tr>\n",
       "      <th>5</th>\n",
       "      <td>AL-6234</td>\n",
       "      <td>2016</td>\n",
       "      <td>6220.8</td>\n",
       "      <td>244</td>\n",
       "      <td>25</td>\n",
       "      <td>0.5</td>\n",
       "      <td>-0.723356</td>\n",
       "      <td>-0.891304</td>\n",
       "      <td>-0.895882</td>\n",
       "      <td>-0.369768</td>\n",
       "      <td>-0.240844</td>\n",
       "      <td>-0.091221</td>\n",
       "      <td>-0.154876</td>\n",
       "    </tr>\n",
       "    <tr>\n",
       "      <th>7</th>\n",
       "      <td>AL-9060</td>\n",
       "      <td>2016</td>\n",
       "      <td>56217.7</td>\n",
       "      <td>820</td>\n",
       "      <td>243</td>\n",
       "      <td>0.5</td>\n",
       "      <td>-0.096916</td>\n",
       "      <td>-0.402948</td>\n",
       "      <td>-0.025977</td>\n",
       "      <td>0.059451</td>\n",
       "      <td>-0.043425</td>\n",
       "      <td>-0.078589</td>\n",
       "      <td>-0.065462</td>\n",
       "    </tr>\n",
       "    <tr>\n",
       "      <th>9</th>\n",
       "      <td>AP-3690</td>\n",
       "      <td>2016</td>\n",
       "      <td>35190.0</td>\n",
       "      <td>872</td>\n",
       "      <td>212</td>\n",
       "      <td>1.0</td>\n",
       "      <td>-0.079197</td>\n",
       "      <td>1.000000</td>\n",
       "      <td>2.199644</td>\n",
       "      <td>-0.121070</td>\n",
       "      <td>-0.037841</td>\n",
       "      <td>-0.042300</td>\n",
       "      <td>0.163299</td>\n",
       "    </tr>\n",
       "  </tbody>\n",
       "</table>\n",
       "</div>"
      ],
      "text/plain": [
       "  Salesman_ID  Year  revenue_actual  Customer_connects_count  \\\n",
       "1     AA-5468  2016         22746.0                      637   \n",
       "3     AL-3791  2016         33001.2                      647   \n",
       "5     AL-6234  2016          6220.8                      244   \n",
       "7     AL-9060  2016         56217.7                      820   \n",
       "9     AP-3690  2016         35190.0                      872   \n",
       "\n",
       "   New_customer_count  target_ratio  connect_inc  new_cus_inc   rev_inc  \\\n",
       "1                 117           1.0    -0.302300     0.887097 -0.563777   \n",
       "3                  99           1.0    -0.313163    -0.552036 -0.645628   \n",
       "5                  25           0.5    -0.723356    -0.891304 -0.895882   \n",
       "7                 243           0.5    -0.096916    -0.402948 -0.025977   \n",
       "9                 212           1.0    -0.079197     1.000000  2.199644   \n",
       "\n",
       "   normalized_rev  normalized_connect  normalized_new_cus  normalized_rev_inc  \n",
       "1       -0.227900           -0.108151           -0.045220           -0.120740  \n",
       "3       -0.139860           -0.111574           -0.082445           -0.129154  \n",
       "5       -0.369768           -0.240844           -0.091221           -0.154876  \n",
       "7        0.059451           -0.043425           -0.078589           -0.065462  \n",
       "9       -0.121070           -0.037841           -0.042300            0.163299  "
      ]
     },
     "execution_count": 101,
     "metadata": {},
     "output_type": "execute_result"
    }
   ],
   "source": [
    "gb.head()"
   ]
  },
  {
   "cell_type": "markdown",
   "metadata": {},
   "source": [
    "Now since all necessary features are between -0.5 and +0.5, now we can assign weights to the features. Since, **revenue_actual (normalized)** is the most important paramter for performance assigning **8** as weight. \n",
    "\n",
    "For the next feature, assigning change in customer count (normalized), ie) **normalized_connect** is given a weight of **4**. \n",
    "\n",
    "For change in revenue (normalized), ie) **normalized_rev_inc** a weight of **1** is assigned, as those who already had a high revenue may not have very high change the next year. \n",
    "\n",
    "For the remaining feature, ie) **normalized_new_cus** a weight of **2** is assigned.\n",
    "\n",
    "A weighted method with different weights is used to give higher priority to features that are more important"
   ]
  },
  {
   "cell_type": "code",
   "execution_count": 102,
   "metadata": {
    "scrolled": true
   },
   "outputs": [],
   "source": [
    "gb['weighted'] = gb.normalized_rev * 8 + gb.normalized_connect * 4 + gb.normalized_new_cus * 2 + gb.normalized_rev_inc\n"
   ]
  },
  {
   "cell_type": "code",
   "execution_count": 106,
   "metadata": {},
   "outputs": [],
   "source": [
    "sorted_df = gb[['Salesman_ID', 'weighted']].sort_values('weighted', ascending=False)"
   ]
  },
  {
   "cell_type": "code",
   "execution_count": 107,
   "metadata": {},
   "outputs": [
    {
     "data": {
      "text/html": [
       "<div>\n",
       "<style scoped>\n",
       "    .dataframe tbody tr th:only-of-type {\n",
       "        vertical-align: middle;\n",
       "    }\n",
       "\n",
       "    .dataframe tbody tr th {\n",
       "        vertical-align: top;\n",
       "    }\n",
       "\n",
       "    .dataframe thead th {\n",
       "        text-align: right;\n",
       "    }\n",
       "</style>\n",
       "<table border=\"1\" class=\"dataframe\">\n",
       "  <thead>\n",
       "    <tr style=\"text-align: right;\">\n",
       "      <th></th>\n",
       "      <th>Salesman_ID</th>\n",
       "      <th>weighted</th>\n",
       "    </tr>\n",
       "  </thead>\n",
       "  <tbody>\n",
       "    <tr>\n",
       "      <th>83</th>\n",
       "      <td>RI-1155</td>\n",
       "      <td>6.576274</td>\n",
       "    </tr>\n",
       "    <tr>\n",
       "      <th>45</th>\n",
       "      <td>MO-6223</td>\n",
       "      <td>5.978020</td>\n",
       "    </tr>\n",
       "    <tr>\n",
       "      <th>67</th>\n",
       "      <td>NY-9092</td>\n",
       "      <td>5.946474</td>\n",
       "    </tr>\n",
       "    <tr>\n",
       "      <th>49</th>\n",
       "      <td>MS-7667</td>\n",
       "      <td>5.561779</td>\n",
       "    </tr>\n",
       "    <tr>\n",
       "      <th>71</th>\n",
       "      <td>OH-9268</td>\n",
       "      <td>5.165997</td>\n",
       "    </tr>\n",
       "  </tbody>\n",
       "</table>\n",
       "</div>"
      ],
      "text/plain": [
       "   Salesman_ID  weighted\n",
       "83     RI-1155  6.576274\n",
       "45     MO-6223  5.978020\n",
       "67     NY-9092  5.946474\n",
       "49     MS-7667  5.561779\n",
       "71     OH-9268  5.165997"
      ]
     },
     "execution_count": 107,
     "metadata": {},
     "output_type": "execute_result"
    }
   ],
   "source": [
    "# Top 5 Performers for the FY 2016\n",
    "sorted_df.head()"
   ]
  },
  {
   "cell_type": "code",
   "execution_count": 108,
   "metadata": {},
   "outputs": [
    {
     "data": {
      "text/html": [
       "<div>\n",
       "<style scoped>\n",
       "    .dataframe tbody tr th:only-of-type {\n",
       "        vertical-align: middle;\n",
       "    }\n",
       "\n",
       "    .dataframe tbody tr th {\n",
       "        vertical-align: top;\n",
       "    }\n",
       "\n",
       "    .dataframe thead th {\n",
       "        text-align: right;\n",
       "    }\n",
       "</style>\n",
       "<table border=\"1\" class=\"dataframe\">\n",
       "  <thead>\n",
       "    <tr style=\"text-align: right;\">\n",
       "      <th></th>\n",
       "      <th>Salesman_ID</th>\n",
       "      <th>weighted</th>\n",
       "    </tr>\n",
       "  </thead>\n",
       "  <tbody>\n",
       "    <tr>\n",
       "      <th>81</th>\n",
       "      <td>PA-4952</td>\n",
       "      <td>-3.336990</td>\n",
       "    </tr>\n",
       "    <tr>\n",
       "      <th>23</th>\n",
       "      <td>HI-9241</td>\n",
       "      <td>-3.649439</td>\n",
       "    </tr>\n",
       "    <tr>\n",
       "      <th>97</th>\n",
       "      <td>VT-1811</td>\n",
       "      <td>-3.652401</td>\n",
       "    </tr>\n",
       "    <tr>\n",
       "      <th>53</th>\n",
       "      <td>NC-6029</td>\n",
       "      <td>-3.869866</td>\n",
       "    </tr>\n",
       "    <tr>\n",
       "      <th>5</th>\n",
       "      <td>AL-6234</td>\n",
       "      <td>-4.258838</td>\n",
       "    </tr>\n",
       "  </tbody>\n",
       "</table>\n",
       "</div>"
      ],
      "text/plain": [
       "   Salesman_ID  weighted\n",
       "81     PA-4952 -3.336990\n",
       "23     HI-9241 -3.649439\n",
       "97     VT-1811 -3.652401\n",
       "53     NC-6029 -3.869866\n",
       "5      AL-6234 -4.258838"
      ]
     },
     "execution_count": 108,
     "metadata": {},
     "output_type": "execute_result"
    }
   ],
   "source": [
    "# Bottom 5 performers for the FY 2016\n",
    "sorted_df.tail()"
   ]
  },
  {
   "cell_type": "markdown",
   "metadata": {},
   "source": [
    "#### For top 5 perfomers, the visualizations are given below"
   ]
  },
  {
   "cell_type": "code",
   "execution_count": 131,
   "metadata": {},
   "outputs": [],
   "source": [
    "# Selecting top 5 perfomers data from original DataFrame\n",
    "top_df = pd.DataFrame()\n",
    "for s_id in sorted_df.head().Salesman_ID.values:\n",
    "    top_df = top_df.append(df[df['Salesman_ID'] == s_id], ignore_index=True)"
   ]
  },
  {
   "cell_type": "code",
   "execution_count": 132,
   "metadata": {},
   "outputs": [
    {
     "data": {
      "text/html": [
       "<div>\n",
       "<style scoped>\n",
       "    .dataframe tbody tr th:only-of-type {\n",
       "        vertical-align: middle;\n",
       "    }\n",
       "\n",
       "    .dataframe tbody tr th {\n",
       "        vertical-align: top;\n",
       "    }\n",
       "\n",
       "    .dataframe thead th {\n",
       "        text-align: right;\n",
       "    }\n",
       "</style>\n",
       "<table border=\"1\" class=\"dataframe\">\n",
       "  <thead>\n",
       "    <tr style=\"text-align: right;\">\n",
       "      <th></th>\n",
       "      <th>Salesman_ID</th>\n",
       "      <th>Year</th>\n",
       "      <th>Units_Sold</th>\n",
       "      <th>Unit_Price</th>\n",
       "      <th>Customer_connects_count</th>\n",
       "      <th>New_customer_count</th>\n",
       "      <th>Pipeline Revenue</th>\n",
       "      <th>New_customer_acquisition_target</th>\n",
       "      <th>target_ratio</th>\n",
       "      <th>revenue_actual</th>\n",
       "    </tr>\n",
       "  </thead>\n",
       "  <tbody>\n",
       "    <tr>\n",
       "      <th>0</th>\n",
       "      <td>RI-1155</td>\n",
       "      <td>2012</td>\n",
       "      <td>673</td>\n",
       "      <td>136.9</td>\n",
       "      <td>811</td>\n",
       "      <td>219</td>\n",
       "      <td>92134</td>\n",
       "      <td>219</td>\n",
       "      <td>1.0</td>\n",
       "      <td>92133.7</td>\n",
       "    </tr>\n",
       "    <tr>\n",
       "      <th>1</th>\n",
       "      <td>RI-1155</td>\n",
       "      <td>2013</td>\n",
       "      <td>561</td>\n",
       "      <td>107.0</td>\n",
       "      <td>818</td>\n",
       "      <td>186</td>\n",
       "      <td>60027</td>\n",
       "      <td>372</td>\n",
       "      <td>0.5</td>\n",
       "      <td>60027.0</td>\n",
       "    </tr>\n",
       "    <tr>\n",
       "      <th>2</th>\n",
       "      <td>RI-1155</td>\n",
       "      <td>2014</td>\n",
       "      <td>717</td>\n",
       "      <td>129.1</td>\n",
       "      <td>931</td>\n",
       "      <td>87</td>\n",
       "      <td>185129</td>\n",
       "      <td>87</td>\n",
       "      <td>1.0</td>\n",
       "      <td>92564.7</td>\n",
       "    </tr>\n",
       "    <tr>\n",
       "      <th>3</th>\n",
       "      <td>RI-1155</td>\n",
       "      <td>2015</td>\n",
       "      <td>81</td>\n",
       "      <td>149.9</td>\n",
       "      <td>476</td>\n",
       "      <td>11</td>\n",
       "      <td>24284</td>\n",
       "      <td>22</td>\n",
       "      <td>0.5</td>\n",
       "      <td>12141.9</td>\n",
       "    </tr>\n",
       "    <tr>\n",
       "      <th>4</th>\n",
       "      <td>RI-1155</td>\n",
       "      <td>2016</td>\n",
       "      <td>853</td>\n",
       "      <td>121.9</td>\n",
       "      <td>875</td>\n",
       "      <td>274</td>\n",
       "      <td>103981</td>\n",
       "      <td>548</td>\n",
       "      <td>0.5</td>\n",
       "      <td>103980.7</td>\n",
       "    </tr>\n",
       "    <tr>\n",
       "      <th>5</th>\n",
       "      <td>MO-6223</td>\n",
       "      <td>2012</td>\n",
       "      <td>886</td>\n",
       "      <td>111.7</td>\n",
       "      <td>926</td>\n",
       "      <td>81</td>\n",
       "      <td>98966</td>\n",
       "      <td>162</td>\n",
       "      <td>0.5</td>\n",
       "      <td>98966.2</td>\n",
       "    </tr>\n",
       "    <tr>\n",
       "      <th>6</th>\n",
       "      <td>MO-6223</td>\n",
       "      <td>2013</td>\n",
       "      <td>316</td>\n",
       "      <td>139.8</td>\n",
       "      <td>615</td>\n",
       "      <td>142</td>\n",
       "      <td>44177</td>\n",
       "      <td>142</td>\n",
       "      <td>1.0</td>\n",
       "      <td>44176.8</td>\n",
       "    </tr>\n",
       "    <tr>\n",
       "      <th>7</th>\n",
       "      <td>MO-6223</td>\n",
       "      <td>2014</td>\n",
       "      <td>775</td>\n",
       "      <td>136.0</td>\n",
       "      <td>816</td>\n",
       "      <td>442</td>\n",
       "      <td>210800</td>\n",
       "      <td>884</td>\n",
       "      <td>0.5</td>\n",
       "      <td>105400.0</td>\n",
       "    </tr>\n",
       "    <tr>\n",
       "      <th>8</th>\n",
       "      <td>MO-6223</td>\n",
       "      <td>2015</td>\n",
       "      <td>90</td>\n",
       "      <td>110.3</td>\n",
       "      <td>229</td>\n",
       "      <td>57</td>\n",
       "      <td>19854</td>\n",
       "      <td>114</td>\n",
       "      <td>0.5</td>\n",
       "      <td>9927.0</td>\n",
       "    </tr>\n",
       "    <tr>\n",
       "      <th>9</th>\n",
       "      <td>MO-6223</td>\n",
       "      <td>2016</td>\n",
       "      <td>781</td>\n",
       "      <td>102.7</td>\n",
       "      <td>790</td>\n",
       "      <td>376</td>\n",
       "      <td>80209</td>\n",
       "      <td>752</td>\n",
       "      <td>0.5</td>\n",
       "      <td>80208.7</td>\n",
       "    </tr>\n",
       "  </tbody>\n",
       "</table>\n",
       "</div>"
      ],
      "text/plain": [
       "  Salesman_ID  Year  Units_Sold  Unit_Price  Customer_connects_count  \\\n",
       "0     RI-1155  2012         673       136.9                      811   \n",
       "1     RI-1155  2013         561       107.0                      818   \n",
       "2     RI-1155  2014         717       129.1                      931   \n",
       "3     RI-1155  2015          81       149.9                      476   \n",
       "4     RI-1155  2016         853       121.9                      875   \n",
       "5     MO-6223  2012         886       111.7                      926   \n",
       "6     MO-6223  2013         316       139.8                      615   \n",
       "7     MO-6223  2014         775       136.0                      816   \n",
       "8     MO-6223  2015          90       110.3                      229   \n",
       "9     MO-6223  2016         781       102.7                      790   \n",
       "\n",
       "   New_customer_count  Pipeline Revenue  New_customer_acquisition_target  \\\n",
       "0                 219             92134                              219   \n",
       "1                 186             60027                              372   \n",
       "2                  87            185129                               87   \n",
       "3                  11             24284                               22   \n",
       "4                 274            103981                              548   \n",
       "5                  81             98966                              162   \n",
       "6                 142             44177                              142   \n",
       "7                 442            210800                              884   \n",
       "8                  57             19854                              114   \n",
       "9                 376             80209                              752   \n",
       "\n",
       "   target_ratio  revenue_actual  \n",
       "0           1.0         92133.7  \n",
       "1           0.5         60027.0  \n",
       "2           1.0         92564.7  \n",
       "3           0.5         12141.9  \n",
       "4           0.5        103980.7  \n",
       "5           0.5         98966.2  \n",
       "6           1.0         44176.8  \n",
       "7           0.5        105400.0  \n",
       "8           0.5          9927.0  \n",
       "9           0.5         80208.7  "
      ]
     },
     "execution_count": 132,
     "metadata": {},
     "output_type": "execute_result"
    }
   ],
   "source": [
    "top_df.head(10)"
   ]
  },
  {
   "cell_type": "code",
   "execution_count": 143,
   "metadata": {},
   "outputs": [],
   "source": [
    "#Selecting only 2016 details\n",
    "top_df_2016 = top_df.query('Year == 2016')[['Salesman_ID','revenue_actual', 'New_customer_count', 'Customer_connects_count']]"
   ]
  },
  {
   "cell_type": "code",
   "execution_count": 144,
   "metadata": {},
   "outputs": [
    {
     "data": {
      "text/html": [
       "<div>\n",
       "<style scoped>\n",
       "    .dataframe tbody tr th:only-of-type {\n",
       "        vertical-align: middle;\n",
       "    }\n",
       "\n",
       "    .dataframe tbody tr th {\n",
       "        vertical-align: top;\n",
       "    }\n",
       "\n",
       "    .dataframe thead th {\n",
       "        text-align: right;\n",
       "    }\n",
       "</style>\n",
       "<table border=\"1\" class=\"dataframe\">\n",
       "  <thead>\n",
       "    <tr style=\"text-align: right;\">\n",
       "      <th></th>\n",
       "      <th>Salesman_ID</th>\n",
       "      <th>revenue_actual</th>\n",
       "      <th>New_customer_count</th>\n",
       "      <th>Customer_connects_count</th>\n",
       "    </tr>\n",
       "  </thead>\n",
       "  <tbody>\n",
       "    <tr>\n",
       "      <th>4</th>\n",
       "      <td>RI-1155</td>\n",
       "      <td>103980.7</td>\n",
       "      <td>274</td>\n",
       "      <td>875</td>\n",
       "    </tr>\n",
       "    <tr>\n",
       "      <th>9</th>\n",
       "      <td>MO-6223</td>\n",
       "      <td>80208.7</td>\n",
       "      <td>376</td>\n",
       "      <td>790</td>\n",
       "    </tr>\n",
       "    <tr>\n",
       "      <th>14</th>\n",
       "      <td>NY-9092</td>\n",
       "      <td>114168.0</td>\n",
       "      <td>410</td>\n",
       "      <td>950</td>\n",
       "    </tr>\n",
       "    <tr>\n",
       "      <th>19</th>\n",
       "      <td>MS-7667</td>\n",
       "      <td>108836.0</td>\n",
       "      <td>291</td>\n",
       "      <td>947</td>\n",
       "    </tr>\n",
       "    <tr>\n",
       "      <th>24</th>\n",
       "      <td>OH-9268</td>\n",
       "      <td>117952.2</td>\n",
       "      <td>691</td>\n",
       "      <td>835</td>\n",
       "    </tr>\n",
       "  </tbody>\n",
       "</table>\n",
       "</div>"
      ],
      "text/plain": [
       "   Salesman_ID  revenue_actual  New_customer_count  Customer_connects_count\n",
       "4      RI-1155        103980.7                 274                      875\n",
       "9      MO-6223         80208.7                 376                      790\n",
       "14     NY-9092        114168.0                 410                      950\n",
       "19     MS-7667        108836.0                 291                      947\n",
       "24     OH-9268        117952.2                 691                      835"
      ]
     },
     "execution_count": 144,
     "metadata": {},
     "output_type": "execute_result"
    }
   ],
   "source": [
    "top_df_2016"
   ]
  },
  {
   "cell_type": "code",
   "execution_count": 153,
   "metadata": {},
   "outputs": [],
   "source": [
    "df_2016 = df.query('Year == 2016')"
   ]
  },
  {
   "cell_type": "markdown",
   "metadata": {},
   "source": [
    "**PS**  \n",
    "**red line = mean**    \n",
    "**green line = max**\n",
    "\n",
    "Colors inverted for the bottom performers graph\n"
   ]
  },
  {
   "cell_type": "code",
   "execution_count": 185,
   "metadata": {
    "scrolled": true
   },
   "outputs": [
    {
     "data": {
      "text/plain": [
       "Text(0,0.5,'Revenue Generated')"
      ]
     },
     "execution_count": 185,
     "metadata": {},
     "output_type": "execute_result"
    },
    {
     "data": {
      "image/png": "[encoded data removed]",
      "text/plain": [
       "<Figure size 432x288 with 1 Axes>"
      ]
     },
     "metadata": {},
     "output_type": "display_data"
    }
   ],
   "source": [
    "colors = ['blue', 'green', 'orange', 'purple', 'red']\n",
    "plt.bar(x=top_df_2016.Salesman_ID, height=top_df_2016.revenue_actual, width=0.4, color=colors, alpha=0.7)\n",
    "plt.axhline(df_2016.revenue_actual.mean(), color='red')\n",
    "plt.axhline(df_2016.revenue_actual.max(), color='green')\n",
    "plt.xlabel('Salesman_ID')\n",
    "plt.ylabel('Revenue Generated')"
   ]
  },
  {
   "cell_type": "markdown",
   "metadata": {},
   "source": [
    "The above bar plot, plots the top 5 performers actual revenue. The horizontal **green** line is max of **revenue_actual** in the year 2016, while the horizontal **red** line is the mean of the same"
   ]
  },
  {
   "cell_type": "code",
   "execution_count": 160,
   "metadata": {
    "scrolled": true
   },
   "outputs": [
    {
     "data": {
      "text/plain": [
       "Text(0.5,0,'Salesman ID')"
      ]
     },
     "execution_count": 160,
     "metadata": {},
     "output_type": "execute_result"
    },
    {
     "data": {
      "image/png": "[encoded data removed]",
      "text/plain": [
       "<Figure size 432x288 with 1 Axes>"
      ]
     },
     "metadata": {},
     "output_type": "display_data"
    }
   ],
   "source": [
    "colors = ['blue', 'green', 'orange', 'purple', 'red']\n",
    "plt.bar(x=top_df_2016.Salesman_ID, height=top_df_2016.New_customer_count, width=0.4, color=colors, alpha=0.7)\n",
    "plt.axhline(df_2016.New_customer_count.mean(), color='red')\n",
    "plt.axhline(df_2016.New_customer_count.max(), color='green')\n",
    "plt.ylabel('New Customer Count')\n",
    "plt.xlabel('Salesman ID')"
   ]
  },
  {
   "cell_type": "markdown",
   "metadata": {},
   "source": [
    "From this above bar chart, we can observe that for the salesman, they have considerably less customer count, yet made it to the top because of the method of weight used. But since, considering the **revenue_actual**, the values are all near the max, we can safely assume that, our selection of weights are quite good."
   ]
  },
  {
   "cell_type": "code",
   "execution_count": 171,
   "metadata": {
    "scrolled": true
   },
   "outputs": [
    {
     "data": {
      "text/plain": [
       "(0.0, 1200)"
      ]
     },
     "execution_count": 171,
     "metadata": {},
     "output_type": "execute_result"
    },
    {
     "data": {
      "image/png": "[encoded data removed]",
      "text/plain": [
       "<Figure size 432x288 with 1 Axes>"
      ]
     },
     "metadata": {},
     "output_type": "display_data"
    }
   ],
   "source": [
    "colors = ['blue', 'green', 'orange', 'purple', 'red']\n",
    "plt.bar(x=top_df_2016.Salesman_ID, height=top_df_2016.Customer_connects_count, width=0.4, color=colors, alpha=0.7)\n",
    "plt.axhline(df_2016.Customer_connects_count.mean(), color='red')\n",
    "plt.axhline(df_2016.Customer_connects_count.max(), color='green')\n",
    "plt.ylabel('Customers contacted')\n",
    "plt.xlabel('Salesman ID')\n",
    "plt.ylim(ymax=1200)"
   ]
  },
  {
   "cell_type": "markdown",
   "metadata": {},
   "source": [
    "For the number of customers contacted, the selected perfomers are quite close to max which again reflects the fact that weighting assigned is good."
   ]
  },
  {
   "cell_type": "markdown",
   "metadata": {},
   "source": [
    "#### For bottom 5 perfomers, the visualizations are as below\n",
    "\n",
    "**P.S**\n",
    "\n",
    "**red line = min**           \n",
    "**green line = mean**"
   ]
  },
  {
   "cell_type": "code",
   "execution_count": 172,
   "metadata": {},
   "outputs": [],
   "source": [
    "# Selecting top 5 perfomers data from original DataFrame\n",
    "bottom_df = pd.DataFrame()\n",
    "for s_id in sorted_df.tail().Salesman_ID.values:\n",
    "    bottom_df = bottom_df.append(df[df['Salesman_ID'] == s_id], ignore_index=True)"
   ]
  },
  {
   "cell_type": "code",
   "execution_count": 173,
   "metadata": {},
   "outputs": [],
   "source": [
    "#Selecting only 2016 details\n",
    "bottom_df_2016 = bottom_df.query('Year == 2016')[['Salesman_ID','revenue_actual', 'New_customer_count', 'Customer_connects_count']]"
   ]
  },
  {
   "cell_type": "code",
   "execution_count": 177,
   "metadata": {
    "scrolled": true
   },
   "outputs": [
    {
     "data": {
      "text/plain": [
       "Text(0.5,0,'Salesman ID')"
      ]
     },
     "execution_count": 177,
     "metadata": {},
     "output_type": "execute_result"
    },
    {
     "data": {
      "image/png": "[encoded data removed]",
      "text/plain": [
       "<Figure size 432x288 with 1 Axes>"
      ]
     },
     "metadata": {},
     "output_type": "display_data"
    }
   ],
   "source": [
    "colors = ['blue', 'green', 'orange', 'purple', 'red']\n",
    "plt.bar(x=bottom_df_2016.Salesman_ID, height=bottom_df_2016.revenue_actual, width=0.4, color=colors, alpha=0.7)\n",
    "plt.axhline(df_2016.revenue_actual.min(), color='red')\n",
    "plt.axhline(df_2016.revenue_actual.mean(), color='green')\n",
    "plt.ylabel('Revenue_actual')\n",
    "plt.xlabel('Salesman ID')"
   ]
  },
  {
   "cell_type": "markdown",
   "metadata": {},
   "source": [
    "As seen from the above bar graph, all the values are way less than the mean (**green line**). These are bottom performers as per our weighted metric"
   ]
  },
  {
   "cell_type": "code",
   "execution_count": 178,
   "metadata": {},
   "outputs": [
    {
     "data": {
      "text/plain": [
       "Text(0.5,0,'Salesman ID')"
      ]
     },
     "execution_count": 178,
     "metadata": {},
     "output_type": "execute_result"
    },
    {
     "data": {
      "image/png": "[encoded data removed]",
      "text/plain": [
       "<Figure size 432x288 with 1 Axes>"
      ]
     },
     "metadata": {},
     "output_type": "display_data"
    }
   ],
   "source": [
    "colors = ['blue', 'green', 'orange', 'purple', 'red']\n",
    "plt.bar(x=bottom_df_2016.Salesman_ID, height=bottom_df_2016.New_customer_count, width=0.4, color=colors, alpha=0.7)\n",
    "plt.axhline(df_2016.New_customer_count.min(), color='red')\n",
    "plt.axhline(df_2016.New_customer_count.mean(), color='green')\n",
    "plt.ylabel('New Customer Count')\n",
    "plt.xlabel('Salesman ID')"
   ]
  },
  {
   "cell_type": "code",
   "execution_count": 184,
   "metadata": {
    "scrolled": false
   },
   "outputs": [
    {
     "data": {
      "text/plain": [
       "Text(0.5,0,'Salesman ID')"
      ]
     },
     "execution_count": 184,
     "metadata": {},
     "output_type": "execute_result"
    },
    {
     "data": {
      "image/png": "[encoded data removed]",
      "text/plain": [
       "<Figure size 432x288 with 1 Axes>"
      ]
     },
     "metadata": {},
     "output_type": "display_data"
    }
   ],
   "source": [
    "colors = ['blue', 'green', 'orange', 'purple', 'red']\n",
    "plt.bar(x=bottom_df_2016.Salesman_ID, height=bottom_df_2016.Customer_connects_count, width=0.4, color=colors, alpha=0.7)\n",
    "plt.axhline(df_2016.Customer_connects_count.mean(), color='green')\n",
    "plt.axhline(df_2016.Customer_connects_count.min(), color='red')\n",
    "plt.ylabel('Customers Contacted')\n",
    "plt.xlabel('Salesman ID')"
   ]
  },
  {
   "cell_type": "markdown",
   "metadata": {},
   "source": [
    "Three of the bottom perfomers 'Customers contacted' is quite close to the min (**red line**), and thus from considering all the plots so far, we can conclude that our **weighted metric is fairly correct**, as it has captured the top and bottom performers quite correctly in every features chosen"
   ]
  },
  {
   "cell_type": "markdown",
   "metadata": {},
   "source": []
  },
  {
   "cell_type": "markdown",
   "metadata": {},
   "source": [
    "## Summary\n",
    "\n",
    "**Metrics chosen**\n",
    "\n",
    "1. Revenue_actual which is product of Units_sold and Unit_price  \n",
    "\n",
    "2. New_customer_count   \n",
    "\n",
    "3. Customer_connects_count\n",
    "\n",
    "**Metrics Neglected**\n",
    "\n",
    "1. Pipeline Revenue. Reason : This had very high correlation with 'revenue_actual' and is an indicative of future performance, not the current year one. Linearity has been found and plotted in notebook **Overall.ipynb**. Please, check with that notebook.\n",
    "\n",
    "2. Units_Sold, Unit_Price. Reason : Since, revenue actual is combination of method, these two are neglected.\n",
    "\n",
    "3. New_customer_target_acquisition. Reason : High linearity with New_customer_count.\n",
    "\n",
    "P.S : Correlation found out using Correlation Matrix and Scatter Matrix\n",
    "\n",
    "### Processing\n",
    "\n",
    "First, incremental changes from 2015 to 2016, for the features where found out and added to the dataframe. Then these incremental changes were scaled using **Mean Normalization** to make their values fall under the range of -0.5 to +0.5. Also, the column 'revenue_actual' also has been mean normalized.\n",
    "\n",
    "Weights were assigned according to the importance of the Normalized Features.\n",
    "\n",
    "1. *Normalized revenue_actual* ie) 'normalized_rev' is assigned with 8, as it is most important indicative of a salesperson's performance.   \n",
    "\n",
    "2. Change in customer count (normalized), ie) **normalized_connect** is given a weight of **4** as the number of customers contacted will reflect the number of items sold.    \n",
    "\n",
    "3. Change in revenue (normalized), ie) **normalized_rev_inc** a weight of **1** is assigned, as those who already had a high revenue may not have very high change the next year, and giving a higher weight to this will penalize those who had higher revenue last year.     \n",
    "\n",
    "4. For **normalized_new_cus** a weight of **2** is assigned as the number of new customers increases the chances of sales of the product.\n",
    "\n",
    "### Output\n",
    "\n",
    "After the weights were assigned, a combined metric is formed and is sorted to find top and bottom 5 performers, then using the Salesman_ID, their performance for the year 2016 is obtained. Then, the data is plotted to see if our weight assignment is good or bad.\n",
    "\n",
    "For the top and and bottom performer's ID's, they are in the below two cells"
   ]
  },
  {
   "cell_type": "code",
   "execution_count": 187,
   "metadata": {},
   "outputs": [
    {
     "name": "stdout",
     "output_type": "stream",
     "text": [
      "['RI-1155' 'MO-6223' 'NY-9092' 'MS-7667' 'OH-9268']\n"
     ]
    }
   ],
   "source": [
    "# Top 5 perfomers\n",
    "print(top_df_2016.Salesman_ID.values)"
   ]
  },
  {
   "cell_type": "code",
   "execution_count": 188,
   "metadata": {},
   "outputs": [
    {
     "name": "stdout",
     "output_type": "stream",
     "text": [
      "['PA-4952' 'HI-9241' 'VT-1811' 'NC-6029' 'AL-6234']\n"
     ]
    }
   ],
   "source": [
    "#Bottom 5 performers\n",
    "print(bottom_df_2016.Salesman_ID.values)"
   ]
  }
 ],
 "metadata": {
  "kernelspec": {
   "display_name": "Python 3",
   "language": "python",
   "name": "python3"
  },
  "language_info": {
   "codemirror_mode": {
    "name": "ipython",
    "version": 3
   },
   "file_extension": ".py",
   "mimetype": "text/x-python",
   "name": "python",
   "nbconvert_exporter": "python",
   "pygments_lexer": "ipython3",
   "version": "3.6.4"
  }
 },
 "nbformat": 4,
 "nbformat_minor": 2
}
